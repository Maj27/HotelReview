{
 "cells": [
  {
   "cell_type": "markdown",
   "metadata": {},
   "source": [
    "### Here you can perform testing the train models. You need first to load the trained models using the pickled files then you can test them on new data"
   ]
  },
  {
   "cell_type": "code",
   "execution_count": 11,
   "metadata": {},
   "outputs": [],
   "source": [
    "import numpy as np\n",
    "import pandas as pd\n",
    "import pickle as p\n",
    "from sklearn.feature_extraction.text import TfidfVectorizer\n",
    "import nltk\n",
    "from nltk.corpus import stopwords          \n",
    "from nltk.stem import PorterStemmer        \n",
    "from nltk.tokenize import word_tokenize\n",
    "from nltk.stem import WordNetLemmatizer\n",
    "import string"
   ]
  },
  {
   "cell_type": "code",
   "execution_count": 13,
   "metadata": {},
   "outputs": [
    {
     "name": "stderr",
     "output_type": "stream",
     "text": [
      "[nltk_data] Downloading package averaged_perceptron_tagger to\n",
      "[nltk_data]     C:\\Users\\majed.aljefri\\AppData\\Roaming\\nltk_data...\n",
      "[nltk_data]   Package averaged_perceptron_tagger is already up-to-\n",
      "[nltk_data]       date!\n",
      "[nltk_data] Downloading package universal_tagset to\n",
      "[nltk_data]     C:\\Users\\majed.aljefri\\AppData\\Roaming\\nltk_data...\n",
      "[nltk_data]   Package universal_tagset is already up-to-date!\n",
      "[nltk_data] Downloading package punkt to\n",
      "[nltk_data]     C:\\Users\\majed.aljefri\\AppData\\Roaming\\nltk_data...\n",
      "[nltk_data]   Package punkt is already up-to-date!\n",
      "[nltk_data] Downloading package stopwords to\n",
      "[nltk_data]     C:\\Users\\majed.aljefri\\AppData\\Roaming\\nltk_data...\n",
      "[nltk_data]   Package stopwords is already up-to-date!\n"
     ]
    },
    {
     "data": {
      "text/plain": [
       "True"
      ]
     },
     "execution_count": 13,
     "metadata": {},
     "output_type": "execute_result"
    }
   ],
   "source": [
    "nltk.download('averaged_perceptron_tagger')\n",
    "nltk.download('universal_tagset')\n",
    "nltk.download('punkt')\n",
    "nltk.download('stopwords')"
   ]
  },
  {
   "cell_type": "code",
   "execution_count": 14,
   "metadata": {},
   "outputs": [],
   "source": [
    "stop_words = stopwords.words('english') \n",
    "lemmatizer = WordNetLemmatizer()"
   ]
  },
  {
   "cell_type": "code",
   "execution_count": 2,
   "metadata": {},
   "outputs": [],
   "source": [
    "def preprocess_text(row):\n",
    "    tokens = nltk.word_tokenize(row['review'])\n",
    "    \n",
    "    # convert to lower case\n",
    "    tokens = [w.lower() for w in tokens]\n",
    "    # remove punctuation from each word\n",
    "    words = [w for w in tokens if w not in string.punctuation]\n",
    "    \n",
    "    # remove remaining tokens that are not alphabetic\n",
    "    words = [w for w in words if w.isalpha()]\n",
    "    \n",
    "    # filter out stop words\n",
    "    words = [w for w in words if not w in stop_words]\n",
    "   \n",
    "    #stems = [porter.stem(word) for word in words]\n",
    "    lemmas =[lemmatizer.lemmatize(word) for word in words]\n",
    "                   \n",
    "    #return ' '.join(stems)\n",
    "    return ' '.join(lemmas)\n"
   ]
  },
  {
   "cell_type": "code",
   "execution_count": 3,
   "metadata": {},
   "outputs": [],
   "source": [
    "model_file = 'C:/Side Projects/Chata ai/model.pickle'\n",
    "dt_model, lr_model, vec = p.load(open(model_file, 'rb'))"
   ]
  },
  {
   "cell_type": "code",
   "execution_count": 15,
   "metadata": {},
   "outputs": [],
   "source": [
    "#load test set and make predictions\n",
    "test_file = 'C:/Side Projects/Chata ai/data/sentiment_dataset_test.csv'\n",
    "\n",
    "df_test = pd.read_csv(test_file, encoding='utf-8')\n",
    "\n",
    "#preprocess reviews\n",
    "df_test['review'] = df_test.apply(lambda row: preprocess_text(row), axis=1)\n",
    "\n",
    "X_test = np.array(df_test['review'])\n",
    "\n",
    "X_test = vec.transform(X_test)\n",
    "#X_dev = selection.transform(X_dev)\n",
    "\n",
    "#make prediction using baseline model\n",
    "y_test_pred = dt_model.predict(X_test)\n",
    "\n",
    "#save predictions \n",
    "df_test['prediction'] = np.array(y_test_pred)\n",
    "df_test.to_csv('C:/Side Projects/Chata ai/data/test_predictions_baseline.csv', encoding='utf-8')\n",
    "\n",
    "#make prediction using the LR model\n",
    "y_test_pred = lr_model.predict(X_test)\n",
    "\n",
    "#save predictions \n",
    "df_test['prediction'] = np.array(y_test_pred)\n",
    "df_test.to_csv('C:/Side Projects/Chata ai/data/test_predictions_LR.csv', encoding='utf-8')"
   ]
  },
  {
   "cell_type": "code",
   "execution_count": null,
   "metadata": {},
   "outputs": [],
   "source": []
  }
 ],
 "metadata": {
  "kernelspec": {
   "display_name": "Python 3",
   "language": "python",
   "name": "python3"
  },
  "language_info": {
   "codemirror_mode": {
    "name": "ipython",
    "version": 3
   },
   "file_extension": ".py",
   "mimetype": "text/x-python",
   "name": "python",
   "nbconvert_exporter": "python",
   "pygments_lexer": "ipython3",
   "version": "3.8.3"
  }
 },
 "nbformat": 4,
 "nbformat_minor": 4
}
